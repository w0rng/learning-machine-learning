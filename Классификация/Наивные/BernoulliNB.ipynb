{
 "cells": [
  {
   "cell_type": "markdown",
   "metadata": {},
   "source": [
    "**BernoulliNB** в основном используются для классификации текстовых данных.  \n",
    "Классификатор **BernoulliNB** подсчитывает ненулевые частоты признаков по каждому классу. Это легче всего понять на примере:"
   ]
  },
  {
   "cell_type": "code",
   "execution_count": 1,
   "metadata": {},
   "outputs": [
    {
     "name": "stdout",
     "output_type": "stream",
     "text": [
      "Частоты признаков:\n",
      "{0: array([0, 1, 0, 2]), 1: array([2, 0, 2, 1])}\n"
     ]
    }
   ],
   "source": [
    "import numpy as np\n",
    "X = np.array([\n",
    "        [0, 1, 0, 1],\n",
    "        [1, 0, 1, 1],\n",
    "        [0, 0, 0, 1],\n",
    "        [1, 0, 1, 0]\n",
    "    ])\n",
    "y = np.array([0, 1, 0, 1])\n",
    "\n",
    "counts = {}\n",
    "for label in np.unique(y):\n",
    "    # итерируем по каждому классу\n",
    "    # подсчитываем (суммируем) элементы 1 по признаку\n",
    "    counts[label] = X[y == label].sum(axis=0)\n",
    "print(f\"Частоты признаков:\\n{counts}\")"
   ]
  },
  {
   "cell_type": "code",
   "execution_count": null,
   "metadata": {},
   "outputs": [],
   "source": []
  }
 ],
 "metadata": {
  "kernelspec": {
   "display_name": "Python 3",
   "language": "python",
   "name": "python3"
  },
  "language_info": {
   "codemirror_mode": {
    "name": "ipython",
    "version": 3
   },
   "file_extension": ".py",
   "mimetype": "text/x-python",
   "name": "python",
   "nbconvert_exporter": "python",
   "pygments_lexer": "ipython3",
   "version": "3.8.0"
  }
 },
 "nbformat": 4,
 "nbformat_minor": 4
}

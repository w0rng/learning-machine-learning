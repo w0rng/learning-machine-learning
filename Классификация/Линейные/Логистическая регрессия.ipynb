{
 "cells": [
  {
   "cell_type": "code",
   "execution_count": 20,
   "metadata": {},
   "outputs": [],
   "source": [
    "from sklearn.linear_model import LogisticRegression\n",
    "from sklearn.model_selection import train_test_split\n",
    "from sklearn.datasets import load_breast_cancer"
   ]
  },
  {
   "cell_type": "markdown",
   "metadata": {},
   "source": [
    "l2 регуляризация сжимает коэфициенты к 0\n",
    "l1 отбрасывает лишние"
   ]
  },
  {
   "cell_type": "code",
   "execution_count": 52,
   "metadata": {},
   "outputs": [
    {
     "data": {
      "text/plain": [
       "LogisticRegression(C=100, max_iter=10000, penalty='l1', solver='liblinear')"
      ]
     },
     "execution_count": 52,
     "metadata": {},
     "output_type": "execute_result"
    }
   ],
   "source": [
    "cancer = load_breast_cancer()\n",
    "X_train, X_test, y_train, y_test = train_test_split(cancer.data, cancer.target, stratify=cancer.target, random_state=42)\n",
    "\n",
    "lr_l2 = LogisticRegression(max_iter=10_000, C=100)\n",
    "lr_l2.fit(X_train, y_train)\n",
    "\n",
    "lr_l1 = LogisticRegression(max_iter=10_000, C=100, penalty=\"l1\", solver='liblinear')\n",
    "lr_l1.fit(X_train, y_train)"
   ]
  },
  {
   "cell_type": "code",
   "execution_count": 53,
   "metadata": {},
   "outputs": [
    {
     "name": "stdout",
     "output_type": "stream",
     "text": [
      "R^2 на обучающем наборе при l2: 0.9835680751173709\n",
      "R^2 на тестовом наборе при l2: 0.965034965034965\n"
     ]
    }
   ],
   "source": [
    "print(f\"R^2 на обучающем наборе при l2: {lr_l2.score(X_train, y_train)}\")\n",
    "print(f\"R^2 на тестовом наборе при l2: {lr_l2.score(X_test, y_test)}\")"
   ]
  },
  {
   "cell_type": "code",
   "execution_count": 54,
   "metadata": {},
   "outputs": [
    {
     "name": "stdout",
     "output_type": "stream",
     "text": [
      "R^2 на обучающем наборе при l1: 0.9859154929577465\n",
      "R^2 на тестовом наборе при l1: 0.9790209790209791\n"
     ]
    }
   ],
   "source": [
    "print(f\"R^2 на обучающем наборе при l1: {lr_l1.score(X_train, y_train)}\")\n",
    "print(f\"R^2 на тестовом наборе при l1: {lr_l1.score(X_test, y_test)}\")"
   ]
  },
  {
   "cell_type": "code",
   "execution_count": null,
   "metadata": {},
   "outputs": [],
   "source": []
  }
 ],
 "metadata": {
  "kernelspec": {
   "display_name": "Python 3",
   "language": "python",
   "name": "python3"
  },
  "language_info": {
   "codemirror_mode": {
    "name": "ipython",
    "version": 3
   },
   "file_extension": ".py",
   "mimetype": "text/x-python",
   "name": "python",
   "nbconvert_exporter": "python",
   "pygments_lexer": "ipython3",
   "version": "3.8.0"
  }
 },
 "nbformat": 4,
 "nbformat_minor": 4
}
